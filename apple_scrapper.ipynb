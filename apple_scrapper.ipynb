{
 "cells": [
  {
   "cell_type": "code",
   "execution_count": 1,
   "metadata": {},
   "outputs": [],
   "source": [
    "import pandas as pd\n",
    "import numpy as np\n",
    "import json\n",
    "\n",
    "from app_store_scraper import AppStore"
   ]
  },
  {
   "cell_type": "code",
   "execution_count": 10,
   "metadata": {},
   "outputs": [
    {
     "name": "stderr",
     "output_type": "stream",
     "text": [
      "2023-12-05 16:20:03,208 [INFO] Base - Initialised: AppStore('us', 'slack', 618783545)\n",
      "2023-12-05 16:20:03,208 [INFO] Base - Ready to fetch reviews from: https://apps.apple.com/us/app/slack/id618783545\n",
      "2023-12-05 16:20:03,583 [INFO] Base - [id:618783545] Fetched 200 reviews (200 fetched in total)\n"
     ]
    }
   ],
   "source": [
    "slack = AppStore(country='us', app_name='slack', app_id = '618783545')\n",
    "\n",
    "slack.review(how_many=200)"
   ]
  },
  {
   "cell_type": "code",
   "execution_count": 11,
   "metadata": {},
   "outputs": [],
   "source": [
    "df = pd.DataFrame(slack.reviews)\n",
    "df['year'] = df['date'].dt.year\n",
    "new_df = df[[\"year\", \"rating\", \"review\", \"title\"]]"
   ]
  },
  {
   "cell_type": "code",
   "execution_count": 16,
   "metadata": {},
   "outputs": [
    {
     "data": {
      "text/plain": [
       "200"
      ]
     },
     "execution_count": 16,
     "metadata": {},
     "output_type": "execute_result"
    }
   ],
   "source": [
    "new_df"
   ]
  }
 ],
 "metadata": {
  "kernelspec": {
   "display_name": "Python 3",
   "language": "python",
   "name": "python3"
  },
  "language_info": {
   "codemirror_mode": {
    "name": "ipython",
    "version": 3
   },
   "file_extension": ".py",
   "mimetype": "text/x-python",
   "name": "python",
   "nbconvert_exporter": "python",
   "pygments_lexer": "ipython3",
   "version": "3.11.5"
  }
 },
 "nbformat": 4,
 "nbformat_minor": 2
}
