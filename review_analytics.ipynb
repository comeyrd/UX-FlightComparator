{
 "cells": [
  {
   "cell_type": "code",
   "execution_count": 12,
   "metadata": {},
   "outputs": [],
   "source": [
    "import pandas as pd\n",
    "import numpy as np\n",
    "import matplotlib.pyplot as plt\n",
    "import nltk\n",
    "from nltk.sentiment import SentimentIntensityAnalyzer\n",
    "from transformers import AutoTokenizer\n",
    "from transformers import AutoModelForSequenceClassification\n",
    "from scipy.special import softmax\n",
    "import seaborn as sns\n",
    "\n",
    "#nltk.download('punkt')\n",
    "#nltk.download('averaged_perceptron_tagger')\n",
    "#nltk.download('universal_tagset')\n",
    "#nltk.download('vader_lexicon')"
   ]
  },
  {
   "cell_type": "code",
   "execution_count": 13,
   "metadata": {},
   "outputs": [],
   "source": [
    "MODEL = f\"cardiffnlp/twitter-roberta-base-sentiment\"\n",
    "tokenizer = AutoTokenizer.from_pretrained(MODEL)\n",
    "model = AutoModelForSequenceClassification.from_pretrained(MODEL)\n",
    "tokenizer.model_max_length = 512"
   ]
  },
  {
   "cell_type": "markdown",
   "metadata": {},
   "source": [
    "## Tools"
   ]
  },
  {
   "cell_type": "code",
   "execution_count": 14,
   "metadata": {},
   "outputs": [],
   "source": [
    "def nltkmodel(df):\n",
    "    res = {}\n",
    "    sia = SentimentIntensityAnalyzer()\n",
    "    for i, row in df.iterrows():\n",
    "        text = row['review']\n",
    "        myid = i\n",
    "        res[myid] = sia.polarity_scores(str(text))\n",
    "    df_res = pd.DataFrame(res).T\n",
    "    return df_res.merge(df,left_index=True,right_index=True)"
   ]
  },
  {
   "cell_type": "code",
   "execution_count": 15,
   "metadata": {},
   "outputs": [],
   "source": [
    "def robertaone(example):\n",
    "    encoded_text = tokenizer(example, return_tensors='pt',padding='max_length', truncation=True, max_length=514)\n",
    "    output = model(**encoded_text)\n",
    "    scores = output[0][0].detach().numpy()\n",
    "    scores = softmax(scores)\n",
    "    scores_dict = {\n",
    "        'roberta_neg' : scores[0],\n",
    "        'roberta_neu' : scores[1],\n",
    "        'roberta_pos' : scores[2]\n",
    "    }\n",
    "    return scores_dict\n",
    "\n",
    "def robertamodel(df):\n",
    "    res = {}\n",
    "    for i, row in df.iterrows():\n",
    "        text = row['review']\n",
    "        myid = i\n",
    "        res[myid] = robertaone(text)\n",
    "    df_res = pd.DataFrame(res).T\n",
    "    return df_res.merge(df,left_index=True,right_index=True)\n"
   ]
  },
  {
   "cell_type": "markdown",
   "metadata": {},
   "source": [
    "# Android"
   ]
  },
  {
   "cell_type": "code",
   "execution_count": 16,
   "metadata": {},
   "outputs": [],
   "source": [
    "android_df = pd.read_csv(\"kayak.csv\")\n",
    "android_df\n",
    "res = nltkmodel(android_df)\n",
    "res = res[['compound','year','rating','review']]"
   ]
  },
  {
   "cell_type": "code",
   "execution_count": 17,
   "metadata": {},
   "outputs": [
    {
     "data": {
      "text/plain": [
       "[('It', 'PRON'),\n",
       " (\"'s\", 'VERB'),\n",
       " ('really', 'ADV'),\n",
       " ('mind-blowing', 'ADJ'),\n",
       " ('how', 'ADV'),\n",
       " ('low', 'ADJ'),\n",
       " ('of', 'ADP'),\n",
       " ('the', 'DET'),\n",
       " ('prices', 'NOUN'),\n",
       " ('the', 'DET'),\n",
       " ('flights', 'NOUN'),\n",
       " ('are', 'VERB'),\n",
       " ('for', 'ADP'),\n",
       " ('this', 'DET'),\n",
       " ('app', 'NOUN'),\n",
       " ('.', '.'),\n",
       " ('What', 'PRON'),\n",
       " (\"'s\", 'VERB'),\n",
       " ('even', 'ADV'),\n",
       " ('more', 'ADV'),\n",
       " ('amazing', 'ADJ'),\n",
       " ('is', 'VERB'),\n",
       " ('the', 'DET'),\n",
       " ('best', 'ADJ'),\n",
       " ('deals', 'NOUN'),\n",
       " ('seem', 'VERB'),\n",
       " ('to', 'PRT'),\n",
       " ('all', 'DET'),\n",
       " ('come', 'VERB'),\n",
       " ('from', 'ADP'),\n",
       " ('this', 'DET'),\n",
       " ('app', 'NOUN'),\n",
       " ('.', '.'),\n",
       " ('I', 'PRON'),\n",
       " (\"'ve\", 'VERB'),\n",
       " ('tried', 'VERB'),\n",
       " ('other', 'ADJ'),\n",
       " ('flight', 'NOUN'),\n",
       " ('websites', 'NOUN'),\n",
       " ('and', 'CONJ'),\n",
       " ('I', 'PRON'),\n",
       " ('stumbled', 'VERB'),\n",
       " ('upon', 'ADP'),\n",
       " ('you', 'PRON'),\n",
       " ('all', 'DET'),\n",
       " (',', '.'),\n",
       " ('when', 'ADV'),\n",
       " ('I', 'PRON'),\n",
       " ('say', 'VERB'),\n",
       " ('absolute', 'ADJ'),\n",
       " ('best', 'ADJ'),\n",
       " ('prices', 'NOUN'),\n",
       " ('that', 'DET'),\n",
       " (\"'s\", 'VERB'),\n",
       " ('exactly', 'ADV'),\n",
       " ('what', 'PRON'),\n",
       " ('I', 'PRON'),\n",
       " ('mean', 'VERB'),\n",
       " (',', '.'),\n",
       " ('especially', 'ADV'),\n",
       " ('if', 'ADP'),\n",
       " ('you', 'PRON'),\n",
       " ('are', 'VERB'),\n",
       " ('planning', 'VERB'),\n",
       " ('a', 'DET'),\n",
       " ('trip', 'NOUN'),\n",
       " ('in', 'ADP'),\n",
       " ('advance', 'NOUN'),\n",
       " ('.', '.'),\n",
       " ('Try', 'VERB'),\n",
       " ('it', 'PRON'),\n",
       " ('you', 'PRON'),\n",
       " ('wo', 'VERB'),\n",
       " (\"n't\", 'ADV'),\n",
       " ('ever', 'ADV'),\n",
       " ('be', 'VERB'),\n",
       " ('disappointed', 'VERB')]"
      ]
     },
     "execution_count": 17,
     "metadata": {},
     "output_type": "execute_result"
    }
   ],
   "source": [
    "res\n",
    "text = res['review'][0]\n",
    "tokens = nltk.word_tokenize(text)\n",
    "tagged = nltk.pos_tag(tokens, tagset='universal')\n",
    "tagged"
   ]
  },
  {
   "cell_type": "code",
   "execution_count": 18,
   "metadata": {},
   "outputs": [],
   "source": [
    "df = res.dropna(subset=['review'])"
   ]
  },
  {
   "cell_type": "code",
   "execution_count": 19,
   "metadata": {},
   "outputs": [
    {
     "data": {
      "text/plain": [
       "array([0.9371, 2023, 1,\n",
       "       \"Wow, I don't like leaving negative reviews. But I have to on this. I booked an airline ticket for international travel using the kayak app and I went directly through the kayak service. They use a third-party called Chatdeal. I now need to make some adjustments to my trip and there is literally no customer service . At the same time they have a special agreement where they lock us out of being able to receive help from the airline directly. Please, don't book through them, use Expedia, etc.\"],\n",
       "      dtype=object)"
      ]
     },
     "execution_count": 19,
     "metadata": {},
     "output_type": "execute_result"
    }
   ],
   "source": [
    "df.query('rating == 1') \\\n",
    "    .sort_values('compound', ascending=False).values[0]"
   ]
  },
  {
   "cell_type": "code",
   "execution_count": 20,
   "metadata": {},
   "outputs": [
    {
     "data": {
      "text/html": [
       "<div>\n",
       "<style scoped>\n",
       "    .dataframe tbody tr th:only-of-type {\n",
       "        vertical-align: middle;\n",
       "    }\n",
       "\n",
       "    .dataframe tbody tr th {\n",
       "        vertical-align: top;\n",
       "    }\n",
       "\n",
       "    .dataframe thead th {\n",
       "        text-align: right;\n",
       "    }\n",
       "</style>\n",
       "<table border=\"1\" class=\"dataframe\">\n",
       "  <thead>\n",
       "    <tr style=\"text-align: right;\">\n",
       "      <th></th>\n",
       "      <th>year</th>\n",
       "      <th>rating</th>\n",
       "      <th>review</th>\n",
       "    </tr>\n",
       "  </thead>\n",
       "  <tbody>\n",
       "    <tr>\n",
       "      <th>0</th>\n",
       "      <td>2023</td>\n",
       "      <td>5</td>\n",
       "      <td>It's really mind-blowing how low of the prices...</td>\n",
       "    </tr>\n",
       "    <tr>\n",
       "      <th>1</th>\n",
       "      <td>2023</td>\n",
       "      <td>4</td>\n",
       "      <td>I really like the kayak app.. it's great for f...</td>\n",
       "    </tr>\n",
       "    <tr>\n",
       "      <th>2</th>\n",
       "      <td>2023</td>\n",
       "      <td>2</td>\n",
       "      <td>The app no longer works for hotel searches. Fo...</td>\n",
       "    </tr>\n",
       "    <tr>\n",
       "      <th>3</th>\n",
       "      <td>2022</td>\n",
       "      <td>3</td>\n",
       "      <td>I find Kayak to have the most customizable fli...</td>\n",
       "    </tr>\n",
       "    <tr>\n",
       "      <th>4</th>\n",
       "      <td>2021</td>\n",
       "      <td>2</td>\n",
       "      <td>In the past the app has been pretty accurate w...</td>\n",
       "    </tr>\n",
       "    <tr>\n",
       "      <th>...</th>\n",
       "      <td>...</td>\n",
       "      <td>...</td>\n",
       "      <td>...</td>\n",
       "    </tr>\n",
       "    <tr>\n",
       "      <th>43648</th>\n",
       "      <td>2014</td>\n",
       "      <td>4</td>\n",
       "      <td>NaN</td>\n",
       "    </tr>\n",
       "    <tr>\n",
       "      <th>43649</th>\n",
       "      <td>2014</td>\n",
       "      <td>3</td>\n",
       "      <td>NaN</td>\n",
       "    </tr>\n",
       "    <tr>\n",
       "      <th>43650</th>\n",
       "      <td>2014</td>\n",
       "      <td>1</td>\n",
       "      <td>NaN</td>\n",
       "    </tr>\n",
       "    <tr>\n",
       "      <th>43651</th>\n",
       "      <td>2014</td>\n",
       "      <td>1</td>\n",
       "      <td>NaN</td>\n",
       "    </tr>\n",
       "    <tr>\n",
       "      <th>43652</th>\n",
       "      <td>2014</td>\n",
       "      <td>1</td>\n",
       "      <td>NaN</td>\n",
       "    </tr>\n",
       "  </tbody>\n",
       "</table>\n",
       "<p>43653 rows × 3 columns</p>\n",
       "</div>"
      ],
      "text/plain": [
       "       year  rating                                             review\n",
       "0      2023       5  It's really mind-blowing how low of the prices...\n",
       "1      2023       4  I really like the kayak app.. it's great for f...\n",
       "2      2023       2  The app no longer works for hotel searches. Fo...\n",
       "3      2022       3  I find Kayak to have the most customizable fli...\n",
       "4      2021       2  In the past the app has been pretty accurate w...\n",
       "...     ...     ...                                                ...\n",
       "43648  2014       4                                                NaN\n",
       "43649  2014       3                                                NaN\n",
       "43650  2014       1                                                NaN\n",
       "43651  2014       1                                                NaN\n",
       "43652  2014       1                                                NaN\n",
       "\n",
       "[43653 rows x 3 columns]"
      ]
     },
     "execution_count": 20,
     "metadata": {},
     "output_type": "execute_result"
    }
   ],
   "source": [
    "kayak = pd.read_csv(\"kayak.csv\")\n",
    "skyskanner = pd.read_csv(\"skyskanner.csv\")\n",
    "df = kayak\n",
    "df"
   ]
  },
  {
   "cell_type": "code",
   "execution_count": 21,
   "metadata": {},
   "outputs": [],
   "source": [
    "res = nltkmodel(df)"
   ]
  },
  {
   "cell_type": "code",
   "execution_count": 22,
   "metadata": {},
   "outputs": [],
   "source": [
    "finalres = robertamodel(res)"
   ]
  },
  {
   "cell_type": "code",
   "execution_count": null,
   "metadata": {},
   "outputs": [],
   "source": [
    "res = res[['compound','year','rating','review','title']]"
   ]
  },
  {
   "cell_type": "code",
   "execution_count": null,
   "metadata": {},
   "outputs": [
    {
     "data": {
      "text/html": [
       "<div>\n",
       "<style scoped>\n",
       "    .dataframe tbody tr th:only-of-type {\n",
       "        vertical-align: middle;\n",
       "    }\n",
       "\n",
       "    .dataframe tbody tr th {\n",
       "        vertical-align: top;\n",
       "    }\n",
       "\n",
       "    .dataframe thead th {\n",
       "        text-align: right;\n",
       "    }\n",
       "</style>\n",
       "<table border=\"1\" class=\"dataframe\">\n",
       "  <thead>\n",
       "    <tr style=\"text-align: right;\">\n",
       "      <th></th>\n",
       "      <th>compound</th>\n",
       "      <th>year</th>\n",
       "      <th>rating</th>\n",
       "      <th>review</th>\n",
       "      <th>title</th>\n",
       "    </tr>\n",
       "  </thead>\n",
       "  <tbody>\n",
       "    <tr>\n",
       "      <th>0</th>\n",
       "      <td>0.9872</td>\n",
       "      <td>2018</td>\n",
       "      <td>5</td>\n",
       "      <td>Kayak has been a fantastic company to use for ...</td>\n",
       "      <td>A joy to use</td>\n",
       "    </tr>\n",
       "    <tr>\n",
       "      <th>1</th>\n",
       "      <td>0.3472</td>\n",
       "      <td>2022</td>\n",
       "      <td>1</td>\n",
       "      <td>I’ve used hopper forever as I travel monthly. ...</td>\n",
       "      <td>Use hopper instead</td>\n",
       "    </tr>\n",
       "    <tr>\n",
       "      <th>2</th>\n",
       "      <td>0.8965</td>\n",
       "      <td>2019</td>\n",
       "      <td>5</td>\n",
       "      <td>I got this app for one plane flight, simple as...</td>\n",
       "      <td>I love this app</td>\n",
       "    </tr>\n",
       "    <tr>\n",
       "      <th>3</th>\n",
       "      <td>0.9654</td>\n",
       "      <td>2018</td>\n",
       "      <td>4</td>\n",
       "      <td>I've been using Kayak to book my flights for a...</td>\n",
       "      <td>Great Site</td>\n",
       "    </tr>\n",
       "    <tr>\n",
       "      <th>4</th>\n",
       "      <td>0.9820</td>\n",
       "      <td>2019</td>\n",
       "      <td>5</td>\n",
       "      <td>This is such a good app so much better than Tr...</td>\n",
       "      <td>Update!</td>\n",
       "    </tr>\n",
       "    <tr>\n",
       "      <th>...</th>\n",
       "      <td>...</td>\n",
       "      <td>...</td>\n",
       "      <td>...</td>\n",
       "      <td>...</td>\n",
       "      <td>...</td>\n",
       "    </tr>\n",
       "    <tr>\n",
       "      <th>4275</th>\n",
       "      <td>0.5859</td>\n",
       "      <td>2013</td>\n",
       "      <td>5</td>\n",
       "      <td>I love this app. You can enter specific travel...</td>\n",
       "      <td>Love it</td>\n",
       "    </tr>\n",
       "    <tr>\n",
       "      <th>4276</th>\n",
       "      <td>0.8189</td>\n",
       "      <td>2013</td>\n",
       "      <td>5</td>\n",
       "      <td>Overall, very functional app. Was very useful ...</td>\n",
       "      <td>Great app</td>\n",
       "    </tr>\n",
       "    <tr>\n",
       "      <th>4277</th>\n",
       "      <td>0.8622</td>\n",
       "      <td>2013</td>\n",
       "      <td>5</td>\n",
       "      <td>Great app. I just updated the app on the sep 9...</td>\n",
       "      <td>Updates</td>\n",
       "    </tr>\n",
       "    <tr>\n",
       "      <th>4278</th>\n",
       "      <td>0.3506</td>\n",
       "      <td>2013</td>\n",
       "      <td>3</td>\n",
       "      <td>I like this app because of the speed in giving...</td>\n",
       "      <td>Compare</td>\n",
       "    </tr>\n",
       "    <tr>\n",
       "      <th>4279</th>\n",
       "      <td>0.5859</td>\n",
       "      <td>2013</td>\n",
       "      <td>5</td>\n",
       "      <td>This app can compare price, check flight statu...</td>\n",
       "      <td>Excellent App</td>\n",
       "    </tr>\n",
       "  </tbody>\n",
       "</table>\n",
       "<p>4280 rows × 5 columns</p>\n",
       "</div>"
      ],
      "text/plain": [
       "      compound  year  rating  \\\n",
       "0       0.9872  2018       5   \n",
       "1       0.3472  2022       1   \n",
       "2       0.8965  2019       5   \n",
       "3       0.9654  2018       4   \n",
       "4       0.9820  2019       5   \n",
       "...        ...   ...     ...   \n",
       "4275    0.5859  2013       5   \n",
       "4276    0.8189  2013       5   \n",
       "4277    0.8622  2013       5   \n",
       "4278    0.3506  2013       3   \n",
       "4279    0.5859  2013       5   \n",
       "\n",
       "                                                 review               title  \n",
       "0     Kayak has been a fantastic company to use for ...        A joy to use  \n",
       "1     I’ve used hopper forever as I travel monthly. ...  Use hopper instead  \n",
       "2     I got this app for one plane flight, simple as...     I love this app  \n",
       "3     I've been using Kayak to book my flights for a...          Great Site  \n",
       "4     This is such a good app so much better than Tr...             Update!  \n",
       "...                                                 ...                 ...  \n",
       "4275  I love this app. You can enter specific travel...             Love it  \n",
       "4276  Overall, very functional app. Was very useful ...           Great app  \n",
       "4277  Great app. I just updated the app on the sep 9...             Updates  \n",
       "4278  I like this app because of the speed in giving...             Compare  \n",
       "4279  This app can compare price, check flight statu...       Excellent App  \n",
       "\n",
       "[4280 rows x 5 columns]"
      ]
     },
     "execution_count": 10,
     "metadata": {},
     "output_type": "execute_result"
    }
   ],
   "source": [
    "res"
   ]
  },
  {
   "cell_type": "code",
   "execution_count": null,
   "metadata": {},
   "outputs": [
    {
     "data": {
      "image/png": "[encoded data removed]",
      "text/plain": [
       "<Figure size 302.486x250 with 2 Axes>"
      ]
     },
     "metadata": {},
     "output_type": "display_data"
    }
   ],
   "source": [
    "sns.pairplot(data=res,\n",
    "             vars=['compound'],\n",
    "            hue='rating',\n",
    "            palette='tab10')\n",
    "plt.show()"
   ]
  },
  {
   "cell_type": "code",
   "execution_count": null,
   "metadata": {},
   "outputs": [
    {
     "data": {
      "image/png": "[encoded data removed]",
      "text/plain": [
       "<Figure size 1000x500 with 1 Axes>"
      ]
     },
     "metadata": {},
     "output_type": "display_data"
    }
   ],
   "source": [
    "ax = res['rating'].value_counts().sort_index() \\\n",
    "    .plot(kind='bar',\n",
    "          title='Count of Reviews by Stars',\n",
    "          figsize=(10, 5))\n",
    "ax.set_xlabel('Review Stars')\n",
    "plt.show()"
   ]
  }
 ],
 "metadata": {
  "kernelspec": {
   "display_name": "Python 3",
   "language": "python",
   "name": "python3"
  },
  "language_info": {
   "codemirror_mode": {
    "name": "ipython",
    "version": 3
   },
   "file_extension": ".py",
   "mimetype": "text/x-python",
   "name": "python",
   "nbconvert_exporter": "python",
   "pygments_lexer": "ipython3",
   "version": "3.11.5"
  }
 },
 "nbformat": 4,
 "nbformat_minor": 2
}
